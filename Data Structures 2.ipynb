{
 "cells": [
  {
   "cell_type": "markdown",
   "id": "6ce6ef09",
   "metadata": {},
   "source": [
    "# Python data structutrs:\n",
    "- string\n",
    "- list\n",
    "- tuple\n",
    "- set\n",
    "- dictionary"
   ]
  },
  {
   "cell_type": "markdown",
   "id": "2f19db34",
   "metadata": {},
   "source": [
    "# Strings"
   ]
  },
  {
   "cell_type": "code",
   "execution_count": 1,
   "id": "5163974f",
   "metadata": {},
   "outputs": [
    {
     "data": {
      "text/plain": [
       "str"
      ]
     },
     "execution_count": 1,
     "metadata": {},
     "output_type": "execute_result"
    }
   ],
   "source": [
    "type('I am khamir')"
   ]
  },
  {
   "cell_type": "code",
   "execution_count": 2,
   "id": "daf8b497",
   "metadata": {},
   "outputs": [],
   "source": [
    "s = 'I am khamir'"
   ]
  },
  {
   "cell_type": "code",
   "execution_count": 4,
   "id": "258cb8d8",
   "metadata": {},
   "outputs": [
    {
     "data": {
      "text/plain": [
       "('I', 'a')"
      ]
     },
     "execution_count": 4,
     "metadata": {},
     "output_type": "execute_result"
    }
   ],
   "source": [
    "s[0], s[2]"
   ]
  },
  {
   "cell_type": "code",
   "execution_count": 5,
   "id": "96a68734",
   "metadata": {},
   "outputs": [
    {
     "data": {
      "text/plain": [
       "'I am'"
      ]
     },
     "execution_count": 5,
     "metadata": {},
     "output_type": "execute_result"
    }
   ],
   "source": [
    "s[0:4] # 0, 1, 2, 3"
   ]
  },
  {
   "cell_type": "code",
   "execution_count": 6,
   "id": "c92e0636",
   "metadata": {},
   "outputs": [
    {
     "data": {
      "text/plain": [
       "'khamir'"
      ]
     },
     "execution_count": 6,
     "metadata": {},
     "output_type": "execute_result"
    }
   ],
   "source": [
    "s[5:]"
   ]
  },
  {
   "cell_type": "code",
   "execution_count": 7,
   "id": "49a26ff2",
   "metadata": {},
   "outputs": [
    {
     "data": {
      "text/plain": [
       "'I a'"
      ]
     },
     "execution_count": 7,
     "metadata": {},
     "output_type": "execute_result"
    }
   ],
   "source": [
    "s[:3]"
   ]
  },
  {
   "cell_type": "code",
   "execution_count": 8,
   "id": "51f76ef4",
   "metadata": {},
   "outputs": [
    {
     "data": {
      "text/plain": [
       "11"
      ]
     },
     "execution_count": 8,
     "metadata": {},
     "output_type": "execute_result"
    }
   ],
   "source": [
    "len(s)"
   ]
  },
  {
   "cell_type": "code",
   "execution_count": 10,
   "id": "95041fa6",
   "metadata": {},
   "outputs": [
    {
     "data": {
      "text/plain": [
       "('r', 'r')"
      ]
     },
     "execution_count": 10,
     "metadata": {},
     "output_type": "execute_result"
    }
   ],
   "source": [
    "s[len(s)-1], s[-1]"
   ]
  },
  {
   "cell_type": "code",
   "execution_count": 12,
   "id": "23566315",
   "metadata": {},
   "outputs": [
    {
     "data": {
      "text/plain": [
       "('i', 'i')"
      ]
     },
     "execution_count": 12,
     "metadata": {},
     "output_type": "execute_result"
    }
   ],
   "source": [
    "s[len(s)-2], s[-2]"
   ]
  },
  {
   "cell_type": "code",
   "execution_count": 15,
   "id": "7fea620a",
   "metadata": {},
   "outputs": [
    {
     "name": "stdout",
     "output_type": "stream",
     "text": [
      "s1 s2\n"
     ]
    }
   ],
   "source": [
    "s1 = 's1'\n",
    "s2 = 's2'\n",
    "\n",
    "s = s1 + ' ' + s2\n",
    "print(s)"
   ]
  },
  {
   "cell_type": "code",
   "execution_count": 14,
   "id": "17503027",
   "metadata": {},
   "outputs": [
    {
     "name": "stdout",
     "output_type": "stream",
     "text": [
      "khamir\n"
     ]
    }
   ],
   "source": [
    "s = 'khamiiiiir'\n",
    "\n",
    "print(s[:5]+s[-1])"
   ]
  },
  {
   "cell_type": "markdown",
   "id": "1c65367a",
   "metadata": {},
   "source": [
    "# Lists"
   ]
  },
  {
   "cell_type": "code",
   "execution_count": null,
   "id": "13aedaac",
   "metadata": {},
   "outputs": [],
   "source": []
  },
  {
   "cell_type": "markdown",
   "id": "4b724ac8",
   "metadata": {},
   "source": [
    "# Tuples"
   ]
  },
  {
   "cell_type": "code",
   "execution_count": null,
   "id": "ec459718",
   "metadata": {},
   "outputs": [],
   "source": []
  },
  {
   "cell_type": "markdown",
   "id": "1b2fc814",
   "metadata": {},
   "source": [
    "# Set"
   ]
  },
  {
   "cell_type": "code",
   "execution_count": null,
   "id": "6bb52860",
   "metadata": {},
   "outputs": [],
   "source": []
  },
  {
   "cell_type": "markdown",
   "id": "b24b1e7d",
   "metadata": {},
   "source": [
    "# Dictionary"
   ]
  },
  {
   "cell_type": "code",
   "execution_count": null,
   "id": "975fff91",
   "metadata": {},
   "outputs": [],
   "source": []
  }
 ],
 "metadata": {
  "kernelspec": {
   "display_name": "Python 3 (ipykernel)",
   "language": "python",
   "name": "python3"
  },
  "language_info": {
   "codemirror_mode": {
    "name": "ipython",
    "version": 3
   },
   "file_extension": ".py",
   "mimetype": "text/x-python",
   "name": "python",
   "nbconvert_exporter": "python",
   "pygments_lexer": "ipython3",
   "version": "3.9.5"
  }
 },
 "nbformat": 4,
 "nbformat_minor": 5
}
